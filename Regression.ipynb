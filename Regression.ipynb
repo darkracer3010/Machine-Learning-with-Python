{
 "cells": [
  {
   "cell_type": "code",
   "execution_count": 2,
   "id": "5b18b1ba",
   "metadata": {},
   "outputs": [],
   "source": [
    "import pandas as pd\n",
    "import numpy as np\n",
    "from sklearn.model_selection import train_test_split \n",
    "from sklearn.preprocessing import PolynomialFeatures,StandardScaler\n",
    "from sklearn.metrics import accuracy_score,r2_score\n",
    "from sklearn.linear_model import LogisticRegression,ElasticNet,LinearRegression,Ridge,Lasso\n",
    "from sklearn.tree import DecisionTreeRegressor\n",
    "import os\n",
    "import sys\n",
    "import matplotlib\n",
    "import io\n",
    "import matplotlib.pyplot as plt\n",
    "from io import StringIO\n",
    "import urllib, base64\n",
    "import seaborn as sns"
   ]
  },
  {
   "cell_type": "code",
   "execution_count": 245,
   "id": "59c800b7",
   "metadata": {},
   "outputs": [],
   "source": [
    "def linear(csv):\n",
    "    h=[]\n",
    "    data=pd.read_csv(csv)\n",
    "    X=data.iloc[:,:-1]\n",
    "    Y=data.iloc[:,-1]\n",
    "    X_mean=np.mean(X)\n",
    "    Y_mean=np.mean(Y)\n",
    "    num=0\n",
    "    den=0\n",
    "    for i in range(len(X)):\n",
    "        num+=(X.iloc[i] - X_mean)*(Y.iloc[i] - Y_mean)\n",
    "        den+=(X.iloc[i] - X_mean)**2\n",
    "    m = num / den\n",
    "    c = Y_mean - m*X_mean\n",
    "    Y_pred = m*X + c\n",
    "    X_train, X_test, Y_train, Y_test=train_test_split(X, Y, test_size=0.33, random_state=42)\n",
    "    regressor=LinearRegression()\n",
    "    regressor.fit(X_train,Y_train)\n",
    "    r2=regressor.score(X_test,Y_test)\n",
    "    print(\"Linear Regression Accuracy: \"+str(r2*100)+\"%\")\n",
    "    plt.title('Linear Regression')\n",
    "    plt.scatter(X, Y) # actual\n",
    "    plt.scatter(X, Y_pred, color='red')\n",
    "    plt.plot([min(X), max(X)], [min(Y_pred), max(Y_pred)], color='red') # predicted\n",
    "    fig = plt.gcf()\n",
    "    buf = io.BytesIO()\n",
    "    fig.savefig(buf, format='png')\n",
    "    buf.seek(0)\n",
    "    string = base64.b64encode(buf.read())\n",
    "    uri = 'data:image/png;base64,' + urllib.parse.quote(string)\n",
    "    html = '<img src = \"%s\"/>' % uri\n",
    "    h.append(uri)\n",
    "    h.append(html)\n",
    "    return h"
   ]
  },
  {
   "cell_type": "code",
   "execution_count": 246,
   "id": "e58cff99",
   "metadata": {},
   "outputs": [],
   "source": [
    "def polynomial(csv):\n",
    "    h=[]\n",
    "    data=pd.read_csv(csv)\n",
    "    X=data.iloc[:,:-1].values\n",
    "    Y=data.iloc[:,-1].values\n",
    "    polynomial_features=PolynomialFeatures(degree=2)\n",
    "    x_poly=polynomial_features.fit_transform(X)\n",
    "    regressor=LinearRegression()\n",
    "    regressor.fit(x_poly, Y)\n",
    "    y_poly_pred=regressor.predict(x_poly)\n",
    "    r2=r2_score(Y,y_poly_pred)\n",
    "    print(\"Polynomial Regression Accuracy: \"+str(r2*100)+\"%\")\n",
    "    plt.figure(figsize=(10,5))\n",
    "    plt.title(\"Polynomial Regression\")\n",
    "    plt.scatter(X,Y,s=15)\n",
    "    plt.plot(X,y_poly_pred,color='r')\n",
    "    fig = plt.gcf()\n",
    "    buf1 = io.BytesIO()\n",
    "    fig.savefig(buf1, format='png')\n",
    "    buf1.seek(0)\n",
    "    string = base64.b64encode(buf1.read())\n",
    "    uri = 'data:image/png;base64,' + urllib.parse.quote(string)\n",
    "    html = '<img src = \"%s\"/>' % uri\n",
    "    h.append(uri)\n",
    "    h.append(html)\n",
    "    return h"
   ]
  },
  {
   "cell_type": "code",
   "execution_count": 247,
   "id": "d8d1cc74",
   "metadata": {},
   "outputs": [],
   "source": [
    "def log(csv):\n",
    "    h=[]\n",
    "    data=pd.read_csv(csv)\n",
    "    X=data.iloc[:,:-1].values\n",
    "    Y=data.iloc[:,-1].values\n",
    "    X_train, X_test, Y_train, Y_test=train_test_split(X, Y, test_size=0.33, random_state=42)\n",
    "    sc_x = StandardScaler()\n",
    "    X_train=sc_x.fit_transform(X_train) \n",
    "    X_test=sc_x.transform(X_test)\n",
    "    regressor=LogisticRegression()\n",
    "    regressor.fit(X_train, Y_train)\n",
    "    y_pred = regressor.predict(X_test)\n",
    "    score =r2_score(Y_test, y_pred)\n",
    "    print(\"Logistic Regression Accuracy: \"+str(score*100)+\"%\")\n",
    "    plt.title(\"Logistic Regression\")\n",
    "    plt.scatter(X, regressor.predict_proba(X)[:,1])\n",
    "    fig = plt.gcf()\n",
    "    buf2= io.BytesIO()\n",
    "    fig.savefig(buf2, format='png')\n",
    "    buf2.seek(0)\n",
    "    string = base64.b64encode(buf2.read())\n",
    "    uri = 'data:image/png;base64,' + urllib.parse.quote(string)\n",
    "    html = '<img src = \"%s\"/>' % uri\n",
    "    h.append(uri)\n",
    "    h.append(html)\n",
    "    return h"
   ]
  },
  {
   "cell_type": "code",
   "execution_count": 248,
   "id": "aae526ce",
   "metadata": {},
   "outputs": [],
   "source": [
    "def dec(csv):\n",
    "    h=[]\n",
    "    data=pd.read_csv(csv)\n",
    "    X=data.iloc[:,:-1].values\n",
    "    Y=data.iloc[:,-1].values\n",
    "    X_train, X_test, Y_train, Y_test=train_test_split(X, Y, test_size=0.33, random_state=42)\n",
    "    regressor = DecisionTreeRegressor() \n",
    "    regressor.fit(X, Y)\n",
    "    y_pred = regressor.predict(X_test)\n",
    "    score =r2_score(Y_test, y_pred)\n",
    "    print(\"Decision Tree Regression Accuracy: \"+str(score*100)+\"%\")\n",
    "    X_grid = np.arange(min(X), max(X), 0.01)\n",
    "    plt.title(\"Decision Tree Regression\")\n",
    "    X_grid = X_grid.reshape((len(X_grid), 1))  \n",
    "    plt.scatter(X, Y, color = 'red')\n",
    "    plt.plot(X_grid, regressor.predict(X_grid), color = 'blue') \n",
    "    fig = plt.gcf()\n",
    "    buf3 = io.BytesIO()\n",
    "    fig.savefig(buf3, format='png')\n",
    "    buf3.seek(0)\n",
    "    string = base64.b64encode(buf3.read())\n",
    "    uri = 'data:image/png;base64,' + urllib.parse.quote(string)\n",
    "    html = '<img src = \"%s\"/>' % uri\n",
    "    h.append(uri)\n",
    "    h.append(html)\n",
    "    return h"
   ]
  },
  {
   "cell_type": "code",
   "execution_count": 249,
   "id": "d0a42aa0",
   "metadata": {},
   "outputs": [],
   "source": [
    "def elasti(csv):\n",
    "    h=[]\n",
    "    data=pd.read_csv(csv)\n",
    "    X=data.iloc[:,:-1].values\n",
    "    Y=data.iloc[:,-1].values\n",
    "    X_train, X_test, Y_train, Y_test=train_test_split(X, Y, test_size=0.33, random_state=42)\n",
    "    enet_model = ElasticNet()\n",
    "    enet_model.fit(X_train, Y_train)\n",
    "    y_pred = enet_model.predict(X_test)\n",
    "    score =r2_score(Y_test, y_pred)\n",
    "    print(\"Elasticnet Regression Accuracy: \"+str(score*100)+\"%\")\n",
    "    plt.title(\"Elasticnet Regression\")\n",
    "    plt.scatter( X_test, Y_test, color = 'blue' )\n",
    "    plt.plot( X_test, y_pred, color = 'orange' )\n",
    "    fig = plt.gcf()\n",
    "    buf4 = io.BytesIO()\n",
    "    fig.savefig(buf4, format='png')\n",
    "    buf4.seek(0)\n",
    "    string = base64.b64encode(buf4.read())\n",
    "    uri = 'data:image/png;base64,' + urllib.parse.quote(string)\n",
    "    html = '<img src = \"%s\"/>' % uri\n",
    "    h.append(uri)\n",
    "    h.append(html)\n",
    "    return h"
   ]
  },
  {
   "cell_type": "code",
   "execution_count": 250,
   "id": "f68a31f7",
   "metadata": {},
   "outputs": [],
   "source": [
    "def lasso(csv):\n",
    "    h=[]\n",
    "    data=pd.read_csv(csv)\n",
    "    X=data.iloc[:,:-1].values\n",
    "    Y=data.iloc[:,-1].values\n",
    "    X_train, X_test, Y_train, Y_test=train_test_split(X, Y, test_size=0.33, random_state=42)\n",
    "    lasso=Lasso()\n",
    "    lasso.fit(X_train, Y_train)\n",
    "    y_pred=lasso.predict(X_test) \n",
    "    score =r2_score(Y_test, y_pred)\n",
    "    print(\"Lasso Regression Accuracy: \"+str(score*100)+\"%\")\n",
    "    plt.title(\"Lasso Regression\")\n",
    "    plt.scatter( X_test, Y_test, color = 'red' )\n",
    "    plt.plot( X_test, y_pred, color = 'blue' )\n",
    "    fig = plt.gcf()\n",
    "    buf5 = io.BytesIO()\n",
    "    fig.savefig(buf5, format='png')\n",
    "    buf5.seek(0)\n",
    "    string = base64.b64encode(buf5.read())\n",
    "    uri = 'data:image/png;base64,' + urllib.parse.quote(string)\n",
    "    html = '<img src = \"%s\"/>' % uri\n",
    "    h.append(uri)\n",
    "    h.append(html)\n",
    "    return h"
   ]
  },
  {
   "cell_type": "code",
   "execution_count": 251,
   "id": "8dc85daf",
   "metadata": {},
   "outputs": [],
   "source": [
    "def ridge(csv):\n",
    "    h=[]\n",
    "    data=pd.read_csv(csv)\n",
    "    X=data.iloc[:,:-1].values\n",
    "    Y=data.iloc[:,-1].values\n",
    "    X_train, X_test, Y_train, Y_test=train_test_split(X, Y, test_size=0.33, random_state=42)\n",
    "    rd = Ridge()\n",
    "    rd.fit(X_train,Y_train)\n",
    "    y_pred = rd.predict(X_test)   \n",
    "    score =r2_score(Y_test, y_pred)\n",
    "    print(\"Ridge Regression Accuracy: \"+str(score*100)+\"%\")\n",
    "    plt.title(\"Ridge Regression\")\n",
    "    plt.scatter( X_test, Y_test, color = 'cyan' )    \n",
    "    plt.plot( X_test, y_pred, color = 'orange' ) \n",
    "    fig = plt.gcf()\n",
    "    buf6 = io.BytesIO()\n",
    "    fig.savefig(buf6, format='png')\n",
    "    buf6.seek(0)\n",
    "    string = base64.b64encode(buf6.read())\n",
    "    uri = 'data:image/png;base64,' + urllib.parse.quote(string)\n",
    "    html = '<img src = \"%s\"/>' % uri\n",
    "    h.append(uri)\n",
    "    h.append(html)\n",
    "    return h"
   ]
  },
  {
   "cell_type": "code",
   "execution_count": 256,
   "id": "c1a78123",
   "metadata": {},
   "outputs": [],
   "source": [
    "def check():\n",
    "    o=linear(\"data.csv\")\n",
    "    o1=polynomial(\"data.csv\")\n",
    "    o2=log(\"data.csv\")\n",
    "    o3=dec(\"data.csv\")\n",
    "    o4=elasti(\"data.csv\")\n",
    "    o5=ridge(\"data.csv\")\n",
    "    o6=lasso(\"data.csv\")"
   ]
  },
  {
   "cell_type": "code",
   "execution_count": 257,
   "id": "eb8165e1",
   "metadata": {
    "scrolled": false
   },
   "outputs": [
    {
     "name": "stdout",
     "output_type": "stream",
     "text": [
      "Linear Regression Accuracy: 92.32979137811631%\n",
      "Polynomial Regression Accuracy: 96.95073174100887%\n",
      "Logistic Regression Accuracy: 82.421875%\n",
      "Decision Tree Regression Accuracy: 100.0%\n",
      "Elasticnet Regression Accuracy: 92.3297611040397%\n",
      "Ridge Regression Accuracy: 92.32977135247718%\n",
      "Lasso Regression Accuracy: 92.32979090741841%\n"
     ]
    }
   ],
   "source": [
    "check()"
   ]
  },
  {
   "cell_type": "code",
   "execution_count": 4,
   "id": "4c1116e9",
   "metadata": {},
   "outputs": [],
   "source": [
    "data=pd.read_csv(\"data.csv\")\n",
    "X=data.iloc[:,:-1].values\n",
    "Y=data.iloc[:,-1].values"
   ]
  },
  {
   "cell_type": "code",
   "execution_count": 5,
   "id": "29edde08",
   "metadata": {},
   "outputs": [
    {
     "data": {
      "text/plain": [
       "array([[2600],\n",
       "       [3000],\n",
       "       [3200],\n",
       "       [3600],\n",
       "       [4000]], dtype=int64)"
      ]
     },
     "execution_count": 5,
     "metadata": {},
     "output_type": "execute_result"
    }
   ],
   "source": [
    "X\n"
   ]
  },
  {
   "cell_type": "code",
   "execution_count": null,
   "id": "ea5e18b5",
   "metadata": {},
   "outputs": [],
   "source": []
  }
 ],
 "metadata": {
  "kernelspec": {
   "display_name": "Python 3 (ipykernel)",
   "language": "python",
   "name": "python3"
  },
  "language_info": {
   "codemirror_mode": {
    "name": "ipython",
    "version": 3
   },
   "file_extension": ".py",
   "mimetype": "text/x-python",
   "name": "python",
   "nbconvert_exporter": "python",
   "pygments_lexer": "ipython3",
   "version": "3.9.6"
  }
 },
 "nbformat": 4,
 "nbformat_minor": 5
}
